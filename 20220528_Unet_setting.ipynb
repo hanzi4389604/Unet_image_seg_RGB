{
 "cells": [
  {
   "cell_type": "code",
   "execution_count": 1,
   "metadata": {},
   "outputs": [
    {
     "ename": "NameError",
     "evalue": "name '__file__' is not defined",
     "output_type": "error",
     "traceback": [
      "\u001b[0;31m---------------------------------------------------------------------------\u001b[0m",
      "\u001b[0;31mNameError\u001b[0m                                 Traceback (most recent call last)",
      "Input \u001b[0;32mIn [1]\u001b[0m, in \u001b[0;36m<cell line: 4>\u001b[0;34m()\u001b[0m\n\u001b[1;32m      1\u001b[0m \u001b[38;5;28;01mimport\u001b[39;00m \u001b[38;5;21;01mos\u001b[39;00m\n\u001b[0;32m----> 4\u001b[0m BASEDIR \u001b[38;5;241m=\u001b[39m os\u001b[38;5;241m.\u001b[39mpath\u001b[38;5;241m.\u001b[39mdirname(os\u001b[38;5;241m.\u001b[39mpath\u001b[38;5;241m.\u001b[39mdirname(\u001b[38;5;18;43m__file__\u001b[39;49m))\n\u001b[1;32m      5\u001b[0m voc_data_dir \u001b[38;5;241m=\u001b[39m \u001b[38;5;124mr\u001b[39m\u001b[38;5;124m'\u001b[39m\u001b[38;5;124m/home/l/20211218 practice/data/20220528_mask_rCNN/unet_voc-master/dataset/VOCdevkit/VOC2007\u001b[39m\u001b[38;5;124m'\u001b[39m\n\u001b[1;32m      6\u001b[0m img_size \u001b[38;5;241m=\u001b[39m \u001b[38;5;241m224\u001b[39m\n",
      "\u001b[0;31mNameError\u001b[0m: name '__file__' is not defined"
     ]
    }
   ],
   "source": [
    "import os\n",
    "\n",
    "\n",
    "BASEDIR = os.path.dirname(os.path.dirname(__file__))\n",
    "voc_data_dir = r'/home/l/20211218 practice/data/20220528_mask_rCNN/unet_voc-master/dataset/VOCdevkit/VOC2007'\n",
    "img_size = 224\n",
    "best_params_path = os.path.join(BASEDIR, 'static_resources/save_model/best_params')\n",
    "last_params_path = os.path.join(BASEDIR, 'static_resources/save_model/last_params')\n",
    "train_log_dir = os.path.join(BASEDIR, 'static_resources/tensorboard_log/train_log')\n",
    "is_save_img = True  # 是否保存图片进行查看"
   ]
  }
 ],
 "metadata": {
  "kernelspec": {
   "display_name": "Python 3 (ipykernel)",
   "language": "python",
   "name": "python3"
  },
  "language_info": {
   "codemirror_mode": {
    "name": "ipython",
    "version": 3
   },
   "file_extension": ".py",
   "mimetype": "text/x-python",
   "name": "python",
   "nbconvert_exporter": "python",
   "pygments_lexer": "ipython3",
   "version": "3.9.12"
  }
 },
 "nbformat": 4,
 "nbformat_minor": 2
}
