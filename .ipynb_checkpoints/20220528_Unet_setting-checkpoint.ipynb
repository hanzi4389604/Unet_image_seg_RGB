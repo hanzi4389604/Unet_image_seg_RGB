{
 "cells": [
  {
   "cell_type": "code",
   "execution_count": null,
   "metadata": {},
   "outputs": [],
   "source": [
    "import os\n",
    "\n",
    "\n",
    "BASEDIR = os.path.dirname(os.path.dirname(__file__))\n",
    "voc_data_dir = r'/home/l/20211218 practice/data/20220528_mask_rCNN/unet_voc-master/dataset/VOCdevkit/VOC2007'\n",
    "img_size = 224\n",
    "best_params_path = os.path.join(BASEDIR, 'static_resources/save_model/best_params')\n",
    "last_params_path = os.path.join(BASEDIR, 'static_resources/save_model/last_params')\n",
    "train_log_dir = os.path.join(BASEDIR, 'static_resources/tensorboard_log/train_log')\n",
    "is_save_img = True  # 是否保存图片进行查看"
   ]
  }
 ],
 "metadata": {
  "kernelspec": {
   "display_name": "Python 3 (ipykernel)",
   "language": "python",
   "name": "python3"
  },
  "language_info": {
   "codemirror_mode": {
    "name": "ipython",
    "version": 3
   },
   "file_extension": ".py",
   "mimetype": "text/x-python",
   "name": "python",
   "nbconvert_exporter": "python",
   "pygments_lexer": "ipython3",
   "version": "3.7.4"
  }
 },
 "nbformat": 4,
 "nbformat_minor": 2
}
